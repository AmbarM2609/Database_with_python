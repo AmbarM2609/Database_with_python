{
 "cells": [
  {
   "cell_type": "markdown",
   "metadata": {},
   "source": [
    "## Working with MySQL and Python\n",
    "\n",
    "The MySQL™ software delivers a very fast, multithreaded, multi-user, and robust SQL (Structured Query Language) database server. MySQL Server is intended for mission-critical, heavy-load production systems as well as for embedding into mass-deployed software. Oracle is a registered trademark of Oracle Corporation and/or its affiliates. \n",
    "\n",
    "**This notebook contains three major subsection;**\n",
    "\n",
    "* **MySQL Features**\n",
    "* **Installing MySQL Workbench**\n",
    "* **Connecting MySql With Python**\n",
    "* **Additional Commands**"
   ]
  },
  {
   "cell_type": "markdown",
   "metadata": {},
   "source": [
    "###  MySQL Features\n",
    "**Internals and Portability**\n",
    "\n",
    "- Written in C and C++.\n",
    "- Tested with a broad range of different compilers.\n",
    "- Works on many different platforms. See https://www.mysql.com/support/supportedplatforms/database.html.\n",
    "- For portability, configured using CMake.\n",
    "- Tested with Purify (a commercial memory leakage detector) as well as with Valgrind, a GPL tool (http://developer.kde.org/~sewardj/).\n",
    "- Uses multi-layered server design with independent modules.\n",
    "- Designed to be fully multithreaded using kernel threads, to easily use multiple CPUs if they are available.\n",
    "\n",
    "**Data Types**\n",
    "\n",
    "- Many data types: signed/unsigned integers 1, 2, 3, 4, and 8 bytes long, FLOAT, DOUBLE, CHAR, VARCHAR, BINARY, VARBINARY, TEXT, BLOB, DATE, TIME, DATETIME, TIMESTAMP, YEAR, SET, ENUM, and OpenGIS spatial types. See Chapter 11, Data Types.\n",
    "- Fixed-length and variable-length string types.\n",
    "\n",
    "**Statements and Functions**\n",
    "\n",
    "- Full operator and function support in the SELECT list and WHERE clause of queries. For example:\n",
    "\n",
    "```mysql\n",
    "SELECT CONCAT(first_name, ' ', last_name)\n",
    "FROM citizen\n",
    "WHERE income/dependents > 10000 AND age > 30;\n",
    "```\n",
    "- Full support for SQL GROUP BY and ORDER BY clauses. Support for group functions (COUNT(), AVG(), STD(), SUM(), MAX(), MIN(), and GROUP_CONCAT()).\n",
    "\n",
    "- Support for LEFT OUTER JOIN and RIGHT OUTER JOIN with both standard SQL and ODBC syntax.\n",
    "\n",
    "- Support for aliases on tables and columns as required by standard SQL.\n",
    "\n",
    "- Support for DELETE, INSERT, REPLACE, and UPDATE to return the number of rows that were changed (affected), or to return the number of rows matched instead by setting a flag when connecting to the server.\n",
    "\n",
    "- Support for MySQL-specific SHOW statements that retrieve information about databases, storage engines, tables, and indexes. Support for the INFORMATION_SCHEMA database, implemented according to standard SQL.\n",
    "\n",
    "- An EXPLAIN statement to show how the optimizer resolves a query.\n",
    "\n",
    "**Security**\n",
    "\n",
    "**Scalability and Limits**\n",
    "\n",
    "**Connectivity**\n",
    "\n",
    "**Localization**\n",
    "\n",
    "**Clients and Tools**\n",
    "\n",
    "**More Detailed [Feature Information](https://dev.mysql.com/doc/refman/8.0/en/features.html)**"
   ]
  }
 ],
 "metadata": {
  "kernelspec": {
   "display_name": "Python 3",
   "language": "python",
   "name": "python3"
  },
  "language_info": {
   "codemirror_mode": {
    "name": "ipython",
    "version": 3
   },
   "file_extension": ".py",
   "mimetype": "text/x-python",
   "name": "python",
   "nbconvert_exporter": "python",
   "pygments_lexer": "ipython3",
   "version": "3.6.5"
  }
 },
 "nbformat": 4,
 "nbformat_minor": 2
}
